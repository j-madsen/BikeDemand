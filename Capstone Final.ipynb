{
 "cells": [
  {
   "cell_type": "code",
   "execution_count": null,
   "id": "fa4661b4",
   "metadata": {},
   "outputs": [],
   "source": [
    "import pandas as pd\n",
    "import seaborn as sns\n",
    "import matplotlib.pyplot as plt\n",
    "import numpy as np\n",
    "from sklearn import datasets, linear_model\n",
    "from sklearn import preprocessing\n",
    "from sklearn.model_selection import train_test_split\n",
    "from sklearn.feature_selection import RFE\n",
    "import ipywidgets as widgets\n",
    "%matplotlib inline"
   ]
  },
  {
   "cell_type": "code",
   "execution_count": null,
   "id": "61f6870a",
   "metadata": {},
   "outputs": [],
   "source": [
    "bikeData = pd.read_csv('C:\\\\Users\\\\joshm\\\\Documents\\\\bikedemand.csv')"
   ]
  },
  {
   "cell_type": "markdown",
   "id": "b6370209",
   "metadata": {},
   "source": [
    "# Bike Demand Application:\n",
    "The purpose of this application is to predict the amount of bikes that will be rented based on the temperature outside (in fahrenheit). The user can input a custom temperature to get a predicted number of bikes that will be rented."
   ]
  },
  {
   "cell_type": "markdown",
   "id": "e4062462",
   "metadata": {},
   "source": [
    "# Data:\n",
    "Let's examine a sample of the data we'll be using. There are a number of different interesting variables, but this application is mainly concerned with the actual temperature and the number of bike rentals."
   ]
  },
  {
   "cell_type": "code",
   "execution_count": null,
   "id": "8086a162",
   "metadata": {
    "scrolled": false
   },
   "outputs": [],
   "source": [
    "frame = pd.DataFrame(bikeData)\n",
    "frame.head(n=5)"
   ]
  },
  {
   "cell_type": "markdown",
   "id": "c0f2c423",
   "metadata": {},
   "source": [
    "# Bike Rental Histogram\n",
    "The below histogram shows the distribution of bike rentals accross the data. The rental amount seems to most commonly fall around the 350-500 range."
   ]
  },
  {
   "cell_type": "code",
   "execution_count": null,
   "id": "177ab183",
   "metadata": {
    "scrolled": true
   },
   "outputs": [],
   "source": [
    "plt.figure(figsize = (10,5))\n",
    "frame['rentals'].plot(kind=\"hist\")\n",
    "plt.legend()"
   ]
  },
  {
   "cell_type": "markdown",
   "id": "d9420a90",
   "metadata": {},
   "source": [
    "# Season Pie Chart\n",
    "The below chart shows the distribution of bike rentals by season. As shown, it appears bikes are rented most frequently in summer. This might be a sign that the amount of bike rentals is positively correlated with the temperature. "
   ]
  },
  {
   "cell_type": "code",
   "execution_count": null,
   "id": "b5ac5f5a",
   "metadata": {},
   "outputs": [],
   "source": [
    "y = np.array([32,28,26,14])\n",
    "seasons = [\"Summer\",\"Spring\",\"Fall\",\"Winter\"]\n",
    "colors = [\"yellow\", \"lightgreen\", \"orange\", \"lightblue\"]\n",
    "labels = [\"1,2,3,4\"]\n",
    "plt.pie(y, labels = seasons, shadow = True, colors = colors)\n",
    "plt.show()"
   ]
  },
  {
   "cell_type": "code",
   "execution_count": null,
   "id": "ac71f7b6",
   "metadata": {
    "scrolled": true
   },
   "outputs": [],
   "source": [
    "x = frame.drop('rentals',1)\n",
    "y = frame['rentals']"
   ]
  },
  {
   "cell_type": "markdown",
   "id": "887da695",
   "metadata": {},
   "source": [
    "# Heatmap\n",
    "The below heatmap shows the correlation between the amount of bike rentals and the other attributes in the data. As we can see, it appears the temperature and temperature feel have the highest correlation. We can better visualize this with a scatteplot."
   ]
  },
  {
   "cell_type": "code",
   "execution_count": null,
   "id": "3259ab50",
   "metadata": {
    "scrolled": false
   },
   "outputs": [],
   "source": [
    "plt.figure(figsize=(9,8))\n",
    "correlation = frame.corr()\n",
    "sns.heatmap(correlation, annot = True, cmap=plt.cm.RdYlBu)\n",
    "plt.show()"
   ]
  },
  {
   "cell_type": "code",
   "execution_count": null,
   "id": "5093b4be",
   "metadata": {},
   "outputs": [],
   "source": [
    "frame = frame.drop([\"season\",\"temp feel\", \"humidity\",\"windspeed\",\"rentals\"],axis=1)"
   ]
  },
  {
   "cell_type": "code",
   "execution_count": null,
   "id": "ee80f59e",
   "metadata": {},
   "outputs": [],
   "source": [
    "x_train, x_test, y_train, y_test = train_test_split(frame, y, test_size = 0.25)"
   ]
  },
  {
   "cell_type": "code",
   "execution_count": null,
   "id": "203d904b",
   "metadata": {},
   "outputs": [],
   "source": [
    "lrm = linear_model.LinearRegression()\n",
    "lrm_model = lrm.fit(x_train, y_train)\n",
    "predictions = lrm.predict(x_test)"
   ]
  },
  {
   "cell_type": "markdown",
   "id": "8110e259",
   "metadata": {},
   "source": [
    "# Scatterplots\n",
    "The first scatterplot shows the predicted rentals using our linear regression model vs the historical rentals from the data. The second shows the original data and the correlation between the temperature and amount of bike rentals with a regression line."
   ]
  },
  {
   "cell_type": "code",
   "execution_count": null,
   "id": "bbdb75fc",
   "metadata": {},
   "outputs": [],
   "source": [
    "plt.scatter(y_test,predictions)\n",
    "plt.title(\"Historical vs Predicted Bike Rentals\")\n",
    "plt.xlabel('Historical rentals')\n",
    "plt.ylabel('Predicted rentals')"
   ]
  },
  {
   "cell_type": "code",
   "execution_count": null,
   "id": "3856286e",
   "metadata": {},
   "outputs": [],
   "source": [
    "plt.xlabel('Temperature')\n",
    "plt.ylabel('Bike Rentals')\n",
    "plt.scatter(frame.temp,y, color =\"blue\")\n",
    "plt.plot(frame.temp,lrm.predict(frame[['temp']]),color='red')"
   ]
  },
  {
   "cell_type": "markdown",
   "id": "d85b2206",
   "metadata": {},
   "source": [
    "# Linear Regression Prediction\n",
    "The below score shows the accuracy of our linear regression model with some examples of actual vs predicted data. The accuracy may vary depending on the group of data that is selected to train the model."
   ]
  },
  {
   "cell_type": "code",
   "execution_count": null,
   "id": "b9a400d0",
   "metadata": {},
   "outputs": [],
   "source": [
    "print('Score:', lrm_model.score(x_test,y_test))"
   ]
  },
  {
   "cell_type": "code",
   "execution_count": null,
   "id": "6f6b5ebd",
   "metadata": {},
   "outputs": [],
   "source": [
    "resultsFrame = pd.DataFrame(x_test)\n",
    "resultsFrame['Historical Rentals'] = y_test\n",
    "resultsFrame['Rental Predictions'] = predictions\n",
    "resultsFrame.head(n=5)"
   ]
  },
  {
   "cell_type": "markdown",
   "id": "a7c5f872",
   "metadata": {},
   "source": [
    "# Let's predict bike rentals!\n",
    "Below the user can calculate their own bike rental prediction using our linear regression model."
   ]
  },
  {
   "cell_type": "code",
   "execution_count": null,
   "id": "2311347e",
   "metadata": {},
   "outputs": [],
   "source": [
    "slider = widgets.IntSlider(min=5,max=100,description='Temperature',disabled=False,continuous_update=True,orientation='horizontal',readout=True,readout_format='d')\n",
    "def bikerentals(rental):\n",
    "    temp = rental\n",
    "    temp2 = lrm.predict([[temp]])\n",
    "    return int(temp2)\n",
    "print(\"Predicted bike rentals:\")\n",
    "widgets.interact(bikerentals, rental=slider) \n",
    "print(\"bikes\")"
   ]
  }
 ],
 "metadata": {
  "kernelspec": {
   "display_name": "Python 3 (ipykernel)",
   "language": "python",
   "name": "python3"
  },
  "language_info": {
   "codemirror_mode": {
    "name": "ipython",
    "version": 3
   },
   "file_extension": ".py",
   "mimetype": "text/x-python",
   "name": "python",
   "nbconvert_exporter": "python",
   "pygments_lexer": "ipython3",
   "version": "3.9.7"
  }
 },
 "nbformat": 4,
 "nbformat_minor": 5
}
